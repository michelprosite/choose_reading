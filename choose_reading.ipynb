{
 "cells": [
  {
   "cell_type": "code",
   "execution_count": 1,
   "metadata": {},
   "outputs": [
    {
     "name": "stdout",
     "output_type": "stream",
     "text": [
      "A leitura anterior foi Capítulo: 133\n",
      "A leitura de hoje é Capítulo: 79\n"
     ]
    }
   ],
   "source": [
    "from random import randint\n",
    "import datetime\n",
    "\n",
    "chapter = '/home/kalimss/Documentos/choose_reading/chapter.txt'\n",
    "chapter_dc = 138 # Aqui é definida o total de capítulos do livro\n",
    "data = '/home/kalimss/Documentos/choose_reading/data_control.txt'\n",
    "data_atual_str = datetime.date.today().strftime('%Y-%m-%d')\n",
    "\n",
    "with open(chapter, 'r') as arquivo:\n",
    "    conteudo = arquivo.read()\n",
    "    n_chapter = conteudo.split()\n",
    "    if n_chapter != []:\n",
    "        anterior = n_chapter[-1]\n",
    "    else:\n",
    "        anterior = str(\"Não há registro de leitura anterior!\")\n",
    "\n",
    "with open(data, 'r') as today:\n",
    "    day = today.read().strip()  \n",
    "    if day != data_atual_str:\n",
    "        with open(data, 'w') as today:\n",
    "            today.write(data_atual_str)    \n",
    "\n",
    "        random_chapter = randint(1, chapter_dc)\n",
    "        random_chapter_str = str(random_chapter) \n",
    "\n",
    "        if random_chapter_str not in n_chapter:\n",
    "            n_chapter.append(random_chapter_str)\n",
    "\n",
    "            with open(chapter, 'w') as arquivo:\n",
    "                arquivo.write(' '.join(n_chapter))\n",
    "        print(f'A leitura anterior foi Capítulo: {anterior}')\n",
    "        print(f'A leitura de hoje é Capítulo: {random_chapter}')\n",
    "    else:\n",
    "        if len(n_chapter) >= 2:\n",
    "            print(f'A leitura anterior foi Capítulo: {n_chapter[-2]}')\n",
    "        else:\n",
    "            print('Não há registro de leitura anterior!')\n",
    "        \n",
    "        print(f'A leitura de hoje é Capítulo: {n_chapter[-1]}')"
   ]
  }
 ],
 "metadata": {
  "kernelspec": {
   "display_name": "Python 3",
   "language": "python",
   "name": "python3"
  },
  "language_info": {
   "codemirror_mode": {
    "name": "ipython",
    "version": 3
   },
   "file_extension": ".py",
   "mimetype": "text/x-python",
   "name": "python",
   "nbconvert_exporter": "python",
   "pygments_lexer": "ipython3",
   "version": "3.11.5"
  },
  "orig_nbformat": 4
 },
 "nbformat": 4,
 "nbformat_minor": 2
}
